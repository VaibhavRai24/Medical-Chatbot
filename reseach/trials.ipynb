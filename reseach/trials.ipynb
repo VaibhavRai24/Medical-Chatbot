{
 "cells": [
  {
   "cell_type": "code",
   "execution_count": 7,
   "id": "41ebd82d",
   "metadata": {},
   "outputs": [],
   "source": [
    "from langchain.document_loaders import DirectoryLoader, PyPDFLoader\n",
    "from langchain.text_splitter import RecursiveCharacterTextSplitter\n",
    "from langchain.embeddings import HuggingFaceEmbeddings\n"
   ]
  },
  {
   "cell_type": "code",
   "execution_count": 3,
   "id": "3c47df03",
   "metadata": {},
   "outputs": [],
   "source": [
    "def load_documents_from_directory(data):\n",
    "    loader = DirectoryLoader(data, \n",
    "                            glob = \"*.pdf\",\n",
    "                            loader_cls=PyPDFLoader)\n",
    "    \n",
    "    documents = loader.load()\n",
    "    \n",
    "    return documents\n",
    "\n",
    "                            "
   ]
  },
  {
   "cell_type": "code",
   "execution_count": 4,
   "id": "edc8a617",
   "metadata": {},
   "outputs": [],
   "source": [
    "extracted__data_of_file = load_documents_from_directory(data=r\"C:\\Users\\VAIBHAVRAI\\OneDrive\\Desktop\\LangchainProjects\\INTIALIZER\\MedicalChatbot\\data\")"
   ]
  },
  {
   "cell_type": "code",
   "execution_count": 5,
   "id": "0e7b776d",
   "metadata": {},
   "outputs": [],
   "source": [
    "def text_spliter(extracted__data_of_file):\n",
    "    text_splitter = RecursiveCharacterTextSplitter(\n",
    "        chunk_size = 700,\n",
    "        chunk_overlap = 50,\n",
    "    )\n",
    "    \n",
    "    text_chunks = text_splitter.split_documents(extracted__data_of_file)\n",
    "    return text_chunks\n"
   ]
  },
  {
   "cell_type": "code",
   "execution_count": 6,
   "id": "facd7cc2",
   "metadata": {},
   "outputs": [
    {
     "name": "stdout",
     "output_type": "stream",
     "text": [
      "Length of text chunks: 4250\n"
     ]
    }
   ],
   "source": [
    "text_chunks = text_spliter(extracted__data_of_file)\n",
    "print(f\"Length of text chunks: {len(text_chunks)}\")"
   ]
  },
  {
   "cell_type": "code",
   "execution_count": 8,
   "id": "f559af51",
   "metadata": {},
   "outputs": [],
   "source": [
    "def download_embeddings():\n",
    "    embedding = HuggingFaceEmbeddings(model_name= 'sentence-transformers/all-MiniLM-L6-v2')\n",
    "    return embedding"
   ]
  },
  {
   "cell_type": "code",
   "execution_count": null,
   "id": "cff2ef09",
   "metadata": {},
   "outputs": [],
   "source": [
    "embeddings = download_embeddings()"
   ]
  },
  {
   "cell_type": "code",
   "execution_count": 10,
   "id": "b6498cfb",
   "metadata": {},
   "outputs": [
    {
     "name": "stdout",
     "output_type": "stream",
     "text": [
      "Query embedding: [0.008776651695370674, 0.15643653273582458, -0.04509524255990982, 0.051768913865089417, 0.009445113129913807, 0.034862786531448364, -0.010551833547651768, 0.02474001608788967, 0.04771703481674194, 0.035446859896183014, 0.0049771894700825214, 0.0061756581999361515, -0.06988959014415741, -0.001901131821796298, -0.0674164742231369, -0.051991336047649384, -0.07194741815328598, 0.0008498877286911011, 0.04470723494887352, -0.02794799394905567, -0.03563689813017845, -0.012978333048522472, 0.0912344753742218, 0.004037539940327406, -0.08054336905479431, 0.04109899327158928, -0.015233662910759449, -0.038993075489997864, 0.04187706112861633, 0.030341822654008865, 0.058921173214912415, 0.10268291085958481, 0.08704260736703873, 0.04398878291249275, -0.058621715754270554, 0.029144512489438057, 0.03288446366786957, 0.06653779000043869, 0.024259064346551895, 0.04004432260990143, -0.047169968485832214, -0.0002665957435965538, 0.0442504957318306, -0.003937646746635437, 0.012668251059949398, -0.046468883752822876, -0.010619895532727242, -0.03916512057185173, -0.013716664165258408, 0.05787136033177376, -0.03688107803463936, -0.0008797482587397099, -0.014808543026447296, -0.011838463135063648, -0.01733819581568241, 0.030919741839170456, 0.03734612837433815, -0.051611289381980896, -0.04458330199122429, -0.038147542625665665, 0.0198773555457592, -0.016687387600541115, -0.10261715203523636, 0.019343268126249313, 0.011020639911293983, -0.08247201144695282, 0.012830541469156742, 0.001732506207190454, 0.029547005891799927, -0.003264552913606167, 0.04166211932897568, -0.022109009325504303, -0.0023864733520895243, 0.029372138902544975, 0.037035662680864334, -0.026986002922058105, -0.04752392694354057, -0.019357476383447647, 0.04519028589129448, -0.043418459594249725, 0.12030944228172302, 0.028923233970999718, 0.0510755218565464, -0.00017429697618354112, 0.04075096920132637, 0.02525767683982849, 0.038954973220825195, -0.0495566800236702, -0.0636766105890274, 0.012586892582476139, 0.0542323999106884, -0.06460673362016678, -0.11907105892896652, 0.02187880128622055, -0.05030429735779762, 0.04368077218532562, -0.016885187476873398, -0.03756583109498024, 0.09017530828714371, 0.08725123107433319, 0.08839478343725204, 0.049737729132175446, -0.005310568027198315, 0.021989259868860245, -0.10475732386112213, -0.11749616265296936, -0.022369742393493652, -0.053791072219610214, 0.06049635261297226, -0.024621613323688507, -0.02279113419353962, 0.05452932044863701, -0.008591929450631142, 0.0708007887005806, 0.09258385747671127, 0.0033489284105598927, -0.04709726572036743, 0.03921833634376526, 0.11396604776382446, 0.0394127331674099, 0.004906552378088236, -0.003921640571206808, -0.02149873599410057, -0.05333899334073067, 0.004141471814364195, -0.07970120757818222, -0.1099114939570427, -1.0617301544865004e-32, -0.007113351486623287, -0.050941430032253265, -0.023497985675930977, 0.062349338084459305, -0.04680442810058594, 0.005990170408040285, -0.02365008182823658, -0.01739196851849556, 0.05771203711628914, -0.0018460823921486735, 0.03195370361208916, 0.03475882112979889, 0.06451103836297989, 0.05440033972263336, 0.017954595386981964, 0.02419617585837841, -0.09714939445257187, 0.10852828621864319, -0.016535557806491852, 0.015267851762473583, 0.017683936282992363, -0.06633538752794266, 0.07635373622179031, -0.007715821731835604, -0.031988147646188736, 0.0035035444889217615, -0.04079347476363182, -0.060832761228084564, 0.013304092921316624, 0.029420364648103714, 0.006632752250880003, 0.025309734046459198, -0.1809476912021637, -0.053364042192697525, 0.013906915672123432, 0.012081444263458252, 0.03892200067639351, -0.029394494369626045, -0.02774818427860737, -0.004146899562329054, -0.009433617815375328, -0.008314115926623344, 0.10208436846733093, -0.00024854904040694237, 0.010903023183345795, 0.09190847724676132, 0.0003506456851027906, -0.02383037470281124, -0.000548113021068275, 0.041222333908081055, -0.03540227934718132, -0.08359459042549133, -0.01997079700231552, -0.10104664415121078, 0.037837326526641846, 0.08987751603126526, -0.03614404425024986, -0.07797127217054367, -0.027960920706391335, -0.02725732885301113, 0.056643046438694, -0.015354293398559093, -0.04573995992541313, 0.09136439114809036, 0.02933814749121666, 0.04598776251077652, -0.0001802473416319117, -0.08370961248874664, 0.10886150598526001, -0.027415219694375992, -0.1397876739501953, -0.06232475861907005, -0.0037524658255279064, -0.03118172101676464, -0.045359134674072266, -0.04445342347025871, -0.022598231211304665, 0.06343631446361542, 0.04669000580906868, 0.001695297658443451, 0.09109871089458466, -0.0633242279291153, 0.005766328889876604, -0.037711940705776215, -0.022608300670981407, -0.005408015102148056, -0.0011065267026424408, -0.06208953261375427, 0.025532191619277, -0.032919593155384064, 0.006632957141846418, 0.011491775512695312, -0.05437622591853142, 0.0219627283513546, -0.056982796639204025, 5.860339658632172e-33, -0.021959202364087105, 0.004326956812292337, -0.08949682861566544, -0.01964578777551651, 0.09710405021905899, -0.034371547400951385, -0.01620696485042572, -0.07283107936382294, 0.015244732610881329, 0.07662508636713028, -0.021496692672371864, -0.040581900626420975, 0.009946535341441631, 0.03158782422542572, -0.02938263490796089, -0.04004247859120369, -0.021213913336396217, -0.07044756412506104, -0.10589683055877686, -0.017220081761479378, -0.026473790407180786, 0.054741546511650085, 0.019896328449249268, -0.09308747202157974, 0.012672082521021366, 0.006213156972080469, -0.0024480822030454874, -0.06635911762714386, -0.0027841534465551376, 0.011979097500443459, 0.08582604676485062, -0.02875225618481636, -0.07376415282487869, -0.050394296646118164, -0.031602825969457626, 0.04973477125167847, 0.10346438735723495, 0.08418842405080795, -0.03601732850074768, 0.00972618255764246, 0.052204784005880356, 0.09132224321365356, 0.012064425274729729, -0.03497545048594475, 0.0212576761841774, 0.06773526221513748, 0.05176093429327011, 0.06497596204280853, 0.047283951193094254, 0.0022502115461975336, 0.07973936200141907, 0.006562693975865841, 0.038452573120594025, -0.05567830428481102, 0.033546332269907, -0.016728637740015984, -0.0056137507781386375, -0.049660708755254745, -0.03774811327457428, 0.04652218520641327, 0.021340902894735336, 0.0646890252828598, -0.06533972173929214, 0.1168537363409996, -0.0060606650076806545, 0.007133807986974716, -0.010162434540688992, 0.016811462119221687, 0.024977266788482666, -0.015128565952181816, -6.170514825498685e-05, -0.015402977354824543, -0.03993479162454605, -0.03846659138798714, -0.028534505516290665, -0.0025515796151012182, -0.048317309468984604, -0.0710110068321228, -0.048319607973098755, 0.010294564999639988, -0.09513597190380096, -0.13183586299419403, 0.006726304534822702, 0.026233859360218048, -0.03178900107741356, -0.06650644540786743, -0.03086995519697666, 0.03342529013752937, 0.008156602270901203, -0.06385783851146698, -0.024907223880290985, -0.052481699734926224, -0.06620863825082779, -0.04463919252157211, 0.039083294570446014, -2.036244417524813e-08, -0.04244209825992584, -0.060969024896621704, 0.015674984082579613, -0.0015531225362792611, -0.05854073539376259, -0.043722931295633316, -0.03216320648789406, 0.02404939942061901, -0.03143438324332237, 0.023834429681301117, -0.017232399433851242, 0.020136607810854912, -0.06663867831230164, 0.0774979218840599, 0.030677208676934242, 0.004416885320097208, 0.12016846984624863, 0.03355506435036659, -0.0429726168513298, -0.007638526614755392, 0.041946135461330414, -0.03583696484565735, -0.04020937532186508, 0.026309076696634293, 0.02444876916706562, 0.03220904991030693, 0.07163439691066742, 0.08783772587776184, 0.0032814638689160347, -0.0344814769923687, 0.02223348617553711, 0.1222136989235878, 0.020860716700553894, -0.012689860537648201, -0.0002847017894964665, -0.04394973814487457, 0.005933853797614574, -0.009749318473041058, 0.06703391671180725, 0.02009987272322178, -0.07415589690208435, 0.032277319580316544, 0.052481647580862045, 0.07257525622844696, -0.006633329670876265, -0.034810952842235565, -0.016623537987470627, 0.09156032651662827, 0.0129235265776515, 0.048533350229263306, -0.053781528025865555, 0.0044483901001513, 0.017043283209204674, 0.012555976398289204, -0.0024619929026812315, 0.0638013407588005, 0.03797762468457222, -0.02524072676897049, -0.10489818453788757, -0.029698804020881653, 0.10277454555034637, 0.09849240630865097, 0.006419164594262838, -0.031164316460490227]\n"
     ]
    }
   ],
   "source": [
    "query = embeddings.embed_query(\"What is the purpose of the study?\")\n",
    "print(f\"Query embedding: {query}\")"
   ]
  },
  {
   "cell_type": "code",
   "execution_count": 38,
   "id": "e2389fd0",
   "metadata": {},
   "outputs": [],
   "source": [
    "from dotenv import load_dotenv\n",
    "load_dotenv()\n",
    "\n",
    "import os\n",
    "PINECONE_API_KEY = os.environ.get(\"PINECONE_API_KEY\")\n",
    "GOOGLE_API_KEY = os.environ.get(\"GOOGLE_API_KEY\")"
   ]
  },
  {
   "cell_type": "code",
   "execution_count": 12,
   "id": "becb965a",
   "metadata": {},
   "outputs": [
    {
     "data": {
      "text/plain": [
       "{\n",
       "    \"name\": \"medical-chatbot\",\n",
       "    \"metric\": \"cosine\",\n",
       "    \"host\": \"medical-chatbot-etxujuw.svc.aped-4627-b74a.pinecone.io\",\n",
       "    \"spec\": {\n",
       "        \"serverless\": {\n",
       "            \"cloud\": \"aws\",\n",
       "            \"region\": \"us-east-1\"\n",
       "        }\n",
       "    },\n",
       "    \"status\": {\n",
       "        \"ready\": true,\n",
       "        \"state\": \"Ready\"\n",
       "    },\n",
       "    \"vector_type\": \"dense\",\n",
       "    \"dimension\": 384,\n",
       "    \"deletion_protection\": \"disabled\",\n",
       "    \"tags\": null\n",
       "}"
      ]
     },
     "execution_count": 12,
     "metadata": {},
     "output_type": "execute_result"
    }
   ],
   "source": [
    "from pinecone.grpc import PineconeGRPC as Pinecone\n",
    "from pinecone import ServerlessSpec\n",
    "import os\n",
    "\n",
    "pc = Pinecone(api_key= PINECONE_API_KEY)\n",
    "\n",
    "index_name = \"medical-chatbot\"\n",
    "pc.create_index(\n",
    "    name=index_name,\n",
    "    dimension=384,\n",
    "    metric=\"cosine\",\n",
    "    spec = ServerlessSpec(\n",
    "        cloud=\"aws\",\n",
    "        region=\"us-east-1\",\n",
    "        )\n",
    ")"
   ]
  },
  {
   "cell_type": "code",
   "execution_count": 13,
   "id": "1c6a6cf3",
   "metadata": {},
   "outputs": [],
   "source": [
    "from langchain_pinecone import PineconeVectorStore\n",
    "\n",
    "search = PineconeVectorStore.from_documents(\n",
    "    documents=text_chunks,\n",
    "    embedding=embeddings,\n",
    "    index_name = index_name\n",
    ")\n",
    "\n"
   ]
  },
  {
   "cell_type": "code",
   "execution_count": 14,
   "id": "43a7db69",
   "metadata": {},
   "outputs": [],
   "source": [
    "from langchain_pinecone import PineconeVectorStore\n",
    "document_search = PineconeVectorStore.from_existing_index(\n",
    "    index_name = index_name,\n",
    "    embedding= embeddings)"
   ]
  },
  {
   "cell_type": "code",
   "execution_count": 15,
   "id": "4a61e853",
   "metadata": {},
   "outputs": [
    {
     "data": {
      "text/plain": [
       "<langchain_pinecone.vectorstores.PineconeVectorStore at 0x2817d253f50>"
      ]
     },
     "execution_count": 15,
     "metadata": {},
     "output_type": "execute_result"
    }
   ],
   "source": [
    "document_search"
   ]
  },
  {
   "cell_type": "code",
   "execution_count": null,
   "id": "0981055d",
   "metadata": {},
   "outputs": [],
   "source": [
    "retriver = document_search.as_retriever(search_type = \"similarity\",search_kwargs={\"k\": 3})\n",
    "\n"
   ]
  },
  {
   "cell_type": "code",
   "execution_count": 36,
   "id": "2150f527",
   "metadata": {},
   "outputs": [],
   "source": [
    "retrived_doc = retriver.invoke(\"What is acne\")"
   ]
  },
  {
   "cell_type": "code",
   "execution_count": 32,
   "id": "d1b98122",
   "metadata": {},
   "outputs": [
    {
     "data": {
      "text/plain": [
       "[Document(id='9c81a5aa-34e7-4525-b22c-0445826de3dd', metadata={'creationdate': '2004-12-18T17:00:02-05:00', 'creator': 'PyPDF', 'moddate': '2004-12-18T16:15:31-06:00', 'page': 37.0, 'page_label': '38', 'producer': 'PDFlib+PDI 5.0.0 (SunOS)', 'source': 'C:\\\\Users\\\\VAIBHAVRAI\\\\OneDrive\\\\Desktop\\\\LangchainProjects\\\\INTIALIZER\\\\MedicalChatbot\\\\data\\\\Gale Encyclopedia of Medicine. Vol. 1. 2nd ed.pdf', 'total_pages': 637.0}, page_content='GALE ENCYCLOPEDIA OF MEDICINE 224\\nAcne\\nGEM - 0001 to 0432 - A  10/22/03 1:41 PM  Page 24'),\n",
       " Document(id='d6fc3db7-c699-4f98-a686-6b758b4d9b42', metadata={'creationdate': '2004-12-18T17:00:02-05:00', 'creator': 'PyPDF', 'moddate': '2004-12-18T16:15:31-06:00', 'page': 239.0, 'page_label': '240', 'producer': 'PDFlib+PDI 5.0.0 (SunOS)', 'source': 'C:\\\\Users\\\\VAIBHAVRAI\\\\OneDrive\\\\Desktop\\\\LangchainProjects\\\\INTIALIZER\\\\MedicalChatbot\\\\data\\\\Gale Encyclopedia of Medicine. Vol. 1. 2nd ed.pdf', 'total_pages': 637.0}, page_content='acne.\\nPurpose\\nDifferent types of antiacne drugs are used for differ-\\nent purposes. For example, lotions, soaps, gels, and\\ncreams containing benzoyl peroxide or tretinoin may be\\nused to clear up mild to moderately severe acne.\\nIsotretinoin (Accutane) is prescribed only for very\\nsevere, disfiguring acne.\\nAcne is a skin condition that occurs when pores or\\nhair follicles become blocked. This allows a waxy\\nmaterial, sebum, to collect inside the pores or follicles.\\nNormally, sebum flows out onto the skin and hair to\\nform a protective coating, but when it cannot get out,\\nsmall swellings develop on the skin surface. Bacteria\\nand dead skin cells can also collect that can cause'),\n",
       " Document(id='bd8a9462-ac67-4269-8147-499404fe24d1', metadata={'creationdate': '2004-12-18T17:00:02-05:00', 'creator': 'PyPDF', 'moddate': '2004-12-18T16:15:31-06:00', 'page': 37.0, 'page_label': '38', 'producer': 'PDFlib+PDI 5.0.0 (SunOS)', 'source': 'C:\\\\Users\\\\VAIBHAVRAI\\\\OneDrive\\\\Desktop\\\\LangchainProjects\\\\INTIALIZER\\\\MedicalChatbot\\\\data\\\\Gale Encyclopedia of Medicine. Vol. 1. 2nd ed.pdf', 'total_pages': 637.0}, page_content='pores of the skin become clogged with oil, dead skin\\ncells, and bacteria.\\nDescription\\nAcne vulgaris, the medical term for common acne, is\\nthe most common skin disease. It affects nearly 17 million\\npeople in the United States. While acne can arise at any\\nage, it usually begins at puberty and worsens during ado-\\nlescence. Nearly 85% of people develop acne at some time\\nbetween the ages of 12-25 years. Up to 20% of women\\ndevelop mild acne. It is also found in some newborns.\\nThe sebaceous glands lie just beneath the skin’s sur-\\nface. They produce an oil called sebum, the skin’s natural\\nmoisturizer. These glands and the hair follicles within\\nwhich they are found are called sebaceous follicles.')]"
      ]
     },
     "execution_count": 32,
     "metadata": {},
     "output_type": "execute_result"
    }
   ],
   "source": [
    "retrived_doc"
   ]
  },
  {
   "cell_type": "code",
   "execution_count": 39,
   "id": "cf1844f0",
   "metadata": {},
   "outputs": [],
   "source": [
    "from langchain_google_genai import ChatGoogleGenerativeAI\n",
    "llm = ChatGoogleGenerativeAI(\n",
    "    temperature=0.5,\n",
    "    model=\"models/gemini-1.5-flash\",\n",
    "    max_tokens=500\n",
    ")"
   ]
  }
 ],
 "metadata": {
  "kernelspec": {
   "display_name": "Langchain",
   "language": "python",
   "name": "python3"
  },
  "language_info": {
   "codemirror_mode": {
    "name": "ipython",
    "version": 3
   },
   "file_extension": ".py",
   "mimetype": "text/x-python",
   "name": "python",
   "nbconvert_exporter": "python",
   "pygments_lexer": "ipython3",
   "version": "3.11.2"
  }
 },
 "nbformat": 4,
 "nbformat_minor": 5
}
